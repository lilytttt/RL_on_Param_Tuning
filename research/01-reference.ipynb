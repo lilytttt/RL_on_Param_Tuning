{
 "cells": [
  {
   "cell_type": "code",
   "execution_count": null,
   "metadata": {},
   "outputs": [],
   "source": []
  },
  {
   "attachments": {},
   "cell_type": "markdown",
   "metadata": {},
   "source": [
    "Paper: Optimizing Automated Trading Systems with Deep Reinforcement Learning\n",
    "\n",
    "Value-based method, benchmark Bayesian Optimization approach\n",
    "\n",
    "Difference with our initial proposed method:\n",
    "- The ML part still predicts an action. Once an action is selected, a new parameter configuration is evaluated.\n",
    "- Each state s includes all previously parameter configurations and their corresponding response.\n",
    "- Leaning process: At each step t, agent study the data d, the state st = (dt, (λ0, r0), ..., (λt, rt)) and the next step st+1 = (dt+1, (λ0, r0), ..., (λt, rt), (λt+1, rt+1))\n",
    "\n",
    "The system with DRL approach provided better results when compared to Bayesian Optimization approach. \n",
    "\n",
    "Traders can apply BO approach with the goal of building a highly profitable trading strategy in the long-term. DRL approach can be applied to regularly update strategies when receiving new information from the market, which helps traders make more effective decisions in short-term trading. The system with DRL settings can also solve the high dimensional problem of parameters of Bayesian Optimization approach。"
   ]
  },
  {
   "attachments": {},
   "cell_type": "markdown",
   "metadata": {},
   "source": [
    "Paper: Reinforcement Learning for Hyperparameter Tuning in Deep Learning-based Side-channel Analysis\n",
    "\n",
    "Github: https://github.com/AISyLab/Reinforcement-Learning-for-SCA"
   ]
  },
  {
   "attachments": {},
   "cell_type": "markdown",
   "metadata": {},
   "source": [
    "TODO: reference on policy-based method?"
   ]
  }
 ],
 "metadata": {
  "kernelspec": {
   "display_name": "Python 3",
   "language": "python",
   "name": "python3"
  },
  "language_info": {
   "name": "python",
   "version": "3.9.6 (default, Oct 18 2022, 12:41:40) \n[Clang 14.0.0 (clang-1400.0.29.202)]"
  },
  "orig_nbformat": 4,
  "vscode": {
   "interpreter": {
    "hash": "31f2aee4e71d21fbe5cf8b01ff0e069b9275f58929596ceb00d14d90e3e16cd6"
   }
  }
 },
 "nbformat": 4,
 "nbformat_minor": 2
}
