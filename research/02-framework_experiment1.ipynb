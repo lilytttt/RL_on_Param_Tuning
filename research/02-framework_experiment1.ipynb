{
 "cells": [
  {
   "attachments": {},
   "cell_type": "markdown",
   "metadata": {},
   "source": [
    "For experiment one we mentioned, select n for a param n-days moving average.\n",
    "\n",
    "N range: 3 - 30\n",
    "\n",
    "Use a portfolio of 6 stocks\n",
    "\n",
    "State is portofolio and close price for 30 days for each stock\n",
    "\n",
    "Reward is portfolio change\n",
    "\n",
    "Action: Buy / Hold / Sell a prefixed amount\n",
    "\n",
    "Environment: \n"
   ]
  },
  {
   "attachments": {},
   "cell_type": "markdown",
   "metadata": {},
   "source": [
    "? For understaning, it is like, selecting the best attribute among a set of attributes (3 days ma, 5 days ma, ...)."
   ]
  }
 ],
 "metadata": {
  "kernelspec": {
   "display_name": "Python 3",
   "language": "python",
   "name": "python3"
  },
  "language_info": {
   "name": "python",
   "version": "3.9.6 (default, Oct 18 2022, 12:41:40) \n[Clang 14.0.0 (clang-1400.0.29.202)]"
  },
  "orig_nbformat": 4,
  "vscode": {
   "interpreter": {
    "hash": "31f2aee4e71d21fbe5cf8b01ff0e069b9275f58929596ceb00d14d90e3e16cd6"
   }
  }
 },
 "nbformat": 4,
 "nbformat_minor": 2
}
